{
 "cells": [
  {
   "cell_type": "code",
   "execution_count": 2,
   "id": "d6b82596",
   "metadata": {},
   "outputs": [
    {
     "data": {
      "text/plain": [
       "'fhjkldghfkhgfhgdkhgdhkgck'"
      ]
     },
     "execution_count": 2,
     "metadata": {},
     "output_type": "execute_result"
    }
   ],
   "source": [
    "#1.Write a python program to convert a string to lower case\n",
    "\n",
    "x=\"FHJKLDGHFKHGFHGDKHGDHKGCK\"\n",
    "x.lower()\n"
   ]
  },
  {
   "cell_type": "code",
   "execution_count": 9,
   "id": "8209bea5",
   "metadata": {},
   "outputs": [
    {
     "data": {
      "text/plain": [
       "'PyThOn'"
      ]
     },
     "execution_count": 9,
     "metadata": {},
     "output_type": "execute_result"
    }
   ],
   "source": [
    "#2.Write a python program to convert only odd indexed characters to lower case\n",
    "\n",
    "x=\"PYTHON\"\n",
    "x[0]+x[1].lower()+x[2]+x[3].lower()+x[4]+x[5].lower()"
   ]
  },
  {
   "cell_type": "code",
   "execution_count": 14,
   "id": "56627d6b",
   "metadata": {},
   "outputs": [
    {
     "data": {
      "text/plain": [
       "'pYtHoN'"
      ]
     },
     "execution_count": 14,
     "metadata": {},
     "output_type": "execute_result"
    }
   ],
   "source": [
    "#3.Write a python program to convert only even indexed characters to lower case\n",
    "x=\"PYTHON\"\n",
    "x[0].lower()+x[1]+x[2].lower() +x[3]+x[4].lower()+x[5]"
   ]
  },
  {
   "cell_type": "code",
   "execution_count": 1,
   "id": "c3e42fb7",
   "metadata": {},
   "outputs": [
    {
     "data": {
      "text/plain": [
       "'pYtHoN'"
      ]
     },
     "execution_count": 1,
     "metadata": {},
     "output_type": "execute_result"
    }
   ],
   "source": [
    "#4.to convert only odd indexed characters to upper case\n",
    "x=\"python\"\n",
    "x[0]+x[1].upper()+x[2]+x[3].upper()+x[4]+x[5].upper()"
   ]
  },
  {
   "cell_type": "code",
   "execution_count": 2,
   "id": "9986cf07",
   "metadata": {},
   "outputs": [
    {
     "data": {
      "text/plain": [
       "'PyThOn'"
      ]
     },
     "execution_count": 2,
     "metadata": {},
     "output_type": "execute_result"
    }
   ],
   "source": [
    "#5.to convert only even indexed characters to upper\n",
    "x=\"python\"\n",
    "x[0].upper()+x[1]+x[2].upper()+x[3]+x[4].upper()+x[5]"
   ]
  },
  {
   "cell_type": "code",
   "execution_count": 4,
   "id": "03d97cd2",
   "metadata": {},
   "outputs": [],
   "source": [
    "#6.python program where you have different variable with our bio data\n",
    "name=\"surya\"\n",
    "age=\"23\"\n",
    "sex=\"male\"\n",
    "phonenumber=\"123456789\"\n",
    "fathername=\"amar\"\n",
    "mothername=\"hymavathi\""
   ]
  },
  {
   "cell_type": "code",
   "execution_count": 5,
   "id": "9eedc098",
   "metadata": {},
   "outputs": [
    {
     "data": {
      "text/plain": [
       "'my name is surya, my age is 23, my sex is male, my phone number 123456789, my father name is amar, my mother name is hymavathi'"
      ]
     },
     "execution_count": 5,
     "metadata": {},
     "output_type": "execute_result"
    }
   ],
   "source": [
    "\"my name is {}, my age is {}, my sex is {}, my phone number {}, my father name is {}, my mother name is {}\".format(name,age,sex,phonenumber,fathername,mothername)\n"
   ]
  },
  {
   "cell_type": "code",
   "execution_count": null,
   "id": "44e7bc0c",
   "metadata": {},
   "outputs": [],
   "source": [
    "#7.Write a python program to count how many times “@” occurred\n",
    "x=\"jxbwueycyt@@SSXDF@FDFGG@CHJCUJ@JHGCJHKT@\"\n",
    "x.count(\"@\")"
   ]
  },
  {
   "cell_type": "code",
   "execution_count": 6,
   "id": "f4fa78d9",
   "metadata": {},
   "outputs": [
    {
     "data": {
      "text/plain": [
       "('name1', 'name2', 'name3')"
      ]
     },
     "execution_count": 6,
     "metadata": {},
     "output_type": "execute_result"
    }
   ],
   "source": [
    "#8.python program to get only names from the string\n",
    "n=\"name1.@gmail.com,name2.@gmai.com,name3.@gmail.com\"\n",
    "n[0:5],n[17:22],n[33:38]"
   ]
  },
  {
   "cell_type": "code",
   "execution_count": 7,
   "id": "8dde0773",
   "metadata": {},
   "outputs": [
    {
     "data": {
      "text/plain": [
       "'mei'"
      ]
     },
     "execution_count": 7,
     "metadata": {},
     "output_type": "execute_result"
    }
   ],
   "source": [
    "#9.string of odd length greater than 9,return a new string made of the middle three characters\n",
    "x=\"mynameissan\"\n",
    "x[4:7]"
   ]
  },
  {
   "cell_type": "code",
   "execution_count": 8,
   "id": "ae0d0865",
   "metadata": {},
   "outputs": [
    {
     "data": {
      "text/plain": [
       "'bcdfghjklmnpqrstvwxyz'"
      ]
     },
     "execution_count": 8,
     "metadata": {},
     "output_type": "execute_result"
    }
   ],
   "source": [
    "#11.to remove vowels from the entire string\n",
    "n=\"abcdefghijklmnopqrstuvwxyz\"\n",
    "n.replace(\"a\",\"\").replace(\"e\",\"\").replace(\"i\",\"\").replace(\"o\",\"\").replace(\"u\",\"\")"
   ]
  },
  {
   "cell_type": "code",
   "execution_count": null,
   "id": "162e329a",
   "metadata": {},
   "outputs": [],
   "source": []
  }
 ],
 "metadata": {
  "kernelspec": {
   "display_name": "Python 3 (ipykernel)",
   "language": "python",
   "name": "python3"
  },
  "language_info": {
   "codemirror_mode": {
    "name": "ipython",
    "version": 3
   },
   "file_extension": ".py",
   "mimetype": "text/x-python",
   "name": "python",
   "nbconvert_exporter": "python",
   "pygments_lexer": "ipython3",
   "version": "3.11.3"
  }
 },
 "nbformat": 4,
 "nbformat_minor": 5
}
